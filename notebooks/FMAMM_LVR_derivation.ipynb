{
 "cells": [
  {
   "cell_type": "code",
   "execution_count": null,
   "metadata": {},
   "outputs": [],
   "source": [
    "import sympy as sp\n",
    "from sympy import symbols\n",
    "from sympy.matrices import Matrix\n",
    "\n",
    "sp.init_printing(use_unicode=True)"
   ]
  },
  {
   "cell_type": "code",
   "execution_count": null,
   "metadata": {},
   "outputs": [],
   "source": [
    "# The number of arbitrageurs is set as exogenous variable N"
   ]
  },
  {
   "cell_type": "markdown",
   "metadata": {},
   "source": [
    "We start with the case such that the number of arbitrageurs against the pool is exogenously set by $ N $. Let $ P $ be the price of external markets, such as CEXs, $ \\gamma $ be the fee rate, $ X $ and $ Y $ be the reserves of pool. The spot price of pool is then $ \\frac{Y}{X} $. Since we will take $ \\gamma $ of both input and output token, effective fee rate will be around double of it. Letting $ (x_1, y_1), (x_2, y_2), \\cdots , (x_N, y_N) $ be pair of each player's input amounts, the clearing price $ P_c $ will be following: \n",
    "$$\n",
    "\\begin{align} \n",
    "P_c = \\frac{Y + 2\\sum^N_{i=1} y_i }{X + 2\\sum^N_{i=1} x_i} \n",
    "\\end{align}\n",
    "$$"
   ]
  },
  {
   "cell_type": "markdown",
   "metadata": {},
   "source": [
    "Each player $ i $'s revenue $ R_i $ will be:\n",
    "$$\n",
    "R_i = -(1 + \\gamma)(P x_i + y_i) + (1 - \\gamma)(\\frac{P}{P_c}y_i + P_c x_i)\n",
    "$$"
   ]
  },
  {
   "cell_type": "markdown",
   "metadata": {},
   "source": [
    "It is straight forward to see that the best response of $ i $ should be either $ (x_i, 0) $ or $ (0,y_i) $. WLOG let's assume $ \\frac{1 - \\gamma}{1 + \\gamma}P > \\frac{Y}{X} $ and each player's best response can be identified by $ y_i $."
   ]
  },
  {
   "cell_type": "markdown",
   "metadata": {},
   "source": [
    "From the first order condition, while $ P_{-i} $ is defined as clearing price without including bid from player $ i $, we have following equation:\n",
    "$$\n",
    "P_c = \\sqrt{\\frac{1 - \\gamma}{1 + \\gamma}P P_{-i}}\n",
    "$$"
   ]
  },
  {
   "cell_type": "markdown",
   "metadata": {},
   "source": [
    "Note that this holds for every $ i,j \\in [N] $ thus\n",
    "$$\n",
    "P_c = \\sqrt{\\frac{1 - \\gamma}{1 + \\gamma}P P_{-i}} = \\sqrt{\\frac{1 - \\gamma}{1 + \\gamma}P P_{-j}},\n",
    "$$\n",
    "and the pure strategy Nash equilibrium is unique and symmetric."
   ]
  },
  {
   "cell_type": "markdown",
   "metadata": {},
   "source": [
    "Let $ y_\\text{eq} $ be the equilibrium bid of each player. "
   ]
  }
 ],
 "metadata": {
  "kernelspec": {
   "display_name": ".venv",
   "language": "python",
   "name": "python3"
  },
  "language_info": {
   "codemirror_mode": {
    "name": "ipython",
    "version": 3
   },
   "file_extension": ".py",
   "mimetype": "text/x-python",
   "name": "python",
   "nbconvert_exporter": "python",
   "pygments_lexer": "ipython3",
   "version": "3.12.3"
  }
 },
 "nbformat": 4,
 "nbformat_minor": 2
}
